{
 "cells": [
  {
   "cell_type": "markdown",
   "id": "6d3c0e04-42c1-45e7-96b5-8a40a8e8d781",
   "metadata": {
    "tags": []
   },
   "source": [
    "# Exercices for the Montreal Metro Incidents Dataset"
   ]
  },
  {
   "cell_type": "markdown",
   "id": "7934a66f-92e0-4bf2-b227-a4bbf48b1069",
   "metadata": {},
   "source": [
    "## Instructions"
   ]
  },
  {
   "cell_type": "markdown",
   "id": "fda47b0c-c330-4617-9fa6-36f9e7eaac3b",
   "metadata": {},
   "source": [
    "- Complete as needed this notebook in order to be able to answer the various questions.\n",
    "- Submit on moodle your notebook as well as the PDF copy of your notebook (with answers computed)\n",
    "- Please submit a clean notebook (i.e. only the code needed to obtain the answers and not including all debugging / trials you did)"
   ]
  },
  {
   "cell_type": "markdown",
   "id": "a70bafc4-a03e-45b9-8a78-7ab8edc0f5d8",
   "metadata": {},
   "source": [
    "## Libraries"
   ]
  },
  {
   "cell_type": "code",
   "execution_count": 1,
   "id": "a6fe67b1-00f0-4683-974c-eed3b2e0b6ed",
   "metadata": {},
   "outputs": [],
   "source": [
    "import pandas as pd\n",
    "import numpy as np\n",
    "import matplotlib.pyplot as plt\n",
    "\n",
    "import ipywidgets as widgets\n",
    "from ipywidgets import interact"
   ]
  },
  {
   "cell_type": "markdown",
   "id": "b48e740c-8935-4bea-a3bb-eff23bff8768",
   "metadata": {},
   "source": [
    "## Data"
   ]
  },
  {
   "cell_type": "code",
   "execution_count": 2,
   "id": "d5dd8ab4-4e39-4ff4-a515-f8ba59fac206",
   "metadata": {},
   "outputs": [],
   "source": [
    "df = pd.read_csv(\"Metro.csv\")"
   ]
  },
  {
   "cell_type": "markdown",
   "id": "13aa2bf7-624d-4ed9-9ff8-bfcee447726e",
   "metadata": {},
   "source": [
    "### Data cleaning"
   ]
  },
  {
   "cell_type": "code",
   "execution_count": 3,
   "id": "70c4b0d7-cfcc-4d76-a547-649ad2fd7fab",
   "metadata": {},
   "outputs": [],
   "source": [
    "# Insert below operations that are required to clean the dataset\n",
    "# Remove columns that will not be used\n",
    "df = df.drop('Porte', axis=1)\n",
    "df = df.drop('Urgence métro', axis=1)\n",
    "df = df.drop('Numéro de tournée', axis=1)\n",
    "df = df.drop(\"Numero d'incident\", axis=1)\n",
    "df = df.drop(\"Incident en minutes\", axis=1)\n",
    "df = df.drop(\"Évacuation\", axis=1)\n",
    "df = df.drop(\"Année civile/mois\", axis=1)\n",
    "df = df.drop(\"Jour calendaire\", axis=1)\n",
    "df = df.drop(\"Véhicule\", axis=1)\n",
    "df = df.drop(\"Porte de voiture\", axis=1)\n",
    "df = df.drop(df[df[\"Code de lieu\"]=='1999'].index)\n",
    "df = df.drop(df[df[\"Code de lieu\"]=='2999'].index)\n",
    "df = df.drop(df[df[\"Code de lieu\"]=='4999'].index)\n",
    "df = df.drop(df[df[\"Code de lieu\"]=='5999'].index)\n",
    "df = df.drop(df[df[\"Code de lieu\"]=='9999'].index)\n",
    "df.drop(df[df.Ligne=='05-Jan'].index, inplace=True)\n",
    "df.drop(df[df.Ligne=='2004-02-01'].index, inplace=True)\n",
    "df.drop(df[df.Ligne=='2004-01-02'].index, inplace=True)\n",
    "df.drop(df[df.Ligne=='2002-01-05'].index, inplace=True)\n",
    "\n",
    "# Remove incidents which are of type metro station (to keep only incidents which affected the metro service)\n",
    "df = df.drop(df[df[\"Type d'incident\"] == 'S'].index)"
   ]
  },
  {
   "cell_type": "code",
   "execution_count": 4,
   "id": "f31ecd5f-4868-4a54-b85f-e8053ddf4b52",
   "metadata": {},
   "outputs": [],
   "source": [
    "# Now we can remove the column as it is no longer usefull\n",
    "df = df.drop(\"Type d'incident\", axis=1)\n",
    "# Insert below operations that you want to perform to transform data \n",
    "t1 = pd.to_datetime(df[\"Heure de l'incident\"], format='%H:%M', errors='coerce')\n",
    "t2 = pd.to_datetime(df['Heure de reprise'], format='%H:%M', errors='coerce')\n",
    "# A transformation that will be needed is to create a dataFrame which contains incidents labeled uniquely according a single line (refer to what we did in the lecture)\n",
    "df[\"Heure de l'incident\"] = t1.apply(lambda x: (x.hour + x.minute / 60 ))\n",
    "df['Heure de reprise'] = t2.apply(lambda x: (x.hour + x.minute / 60 ))\n",
    "df['duration'] = (df['Heure de reprise']-df[\"Heure de l'incident\"]) * 60"
   ]
  },
  {
   "cell_type": "markdown",
   "id": "f557aae4-97bb-4c4d-8bba-847f2f709f58",
   "metadata": {},
   "source": [
    "## Questions"
   ]
  },
  {
   "cell_type": "markdown",
   "id": "1e497adb-8366-475f-9365-81c3baaf8eb9",
   "metadata": {
    "tags": []
   },
   "source": [
    "### 1. Which are the main primary and second causes for interruptions?"
   ]
  },
  {
   "cell_type": "markdown",
   "id": "1745768c-4625-4761-ba1b-2f13124fab54",
   "metadata": {},
   "source": [
    "In this question we want to know what are the major primary and secondary causes for interruptions in the metro service.<br>\n",
    "The primary causes can be found in the field `Cause primaire` and the secondary causes in the field `Cause secondaire`.\n",
    "\n",
    "- Use the [`groupby()`](https://pandas.pydata.org/pandas-docs/stable/reference/api/pandas.DataFrame.groupby.html) method on the `Cause primaire`, respectively `Cause secondaire` to aggregate the data according the causes.\n",
    "- Apply the [`count()`](https://pandas.pydata.org/pandas-docs/stable/reference/api/pandas.DataFrame.count.html) method to count them\n",
    "- To find the cause responsible for most incidents the dataframe method [`idxmax()`](https://pandas.pydata.org/docs/reference/api/pandas.DataFrame.idxmax.html) can be used.\n",
    "- Alternatively you can sort the values with the method [`sort_values()`](https://pandas.pydata.org/docs/reference/api/pandas.DataFrame.sort_values.html)\n",
    "- To create a pie chart use the [`pie`](https://matplotlib.org/stable/api/_as_gen/matplotlib.pyplot.pie.html#matplotlib.pyplot.pie) method form [`MatPlotLib`](https://matplotlib.org/stable/index.html)\n",
    "- Percentage values can be added to the pie chart using the `autopct` option (for example `autopct='%1.0f%%'`)\n",
    "\n",
    "Notes:\n",
    "1. You may want to use Google translate to understand what is the actual highest primary/secondary cause in case you dont speak French.\n",
    "2. The cryptic code `MR-73` refers to the old train constellation of the STM and the code `MPM10` is the new train constellation"
   ]
  },
  {
   "cell_type": "code",
   "execution_count": 5,
   "id": "313d7efa-faf4-449d-9eea-a4c0b1ad864e",
   "metadata": {},
   "outputs": [
    {
     "data": {
      "text/plain": [
       "'Clientèle'"
      ]
     },
     "execution_count": 5,
     "metadata": {},
     "output_type": "execute_result"
    }
   ],
   "source": [
    "# What is the most frequent primary cause for incidents?\n",
    "df_PC = df.groupby('Cause primaire').count()['Ligne']\n",
    "MaxPC = df_PC.idxmax()\n",
    "MaxPC\n"
   ]
  },
  {
   "cell_type": "code",
   "execution_count": 6,
   "id": "2c69fd89-2d32-403f-8b13-4e01ebea25c2",
   "metadata": {},
   "outputs": [
    {
     "data": {
      "text/plain": [
       "'Méfait volontaire'"
      ]
     },
     "execution_count": 6,
     "metadata": {},
     "output_type": "execute_result"
    }
   ],
   "source": [
    "# What is the most frequent secondary cause for incidents?\n",
    "df_SC = df.groupby('Cause secondaire').count()['Ligne']\n",
    "MaxSC = df_SC.idxmax()\n",
    "MaxSC"
   ]
  },
  {
   "cell_type": "code",
   "execution_count": 7,
   "id": "e212088d-3730-4d94-a317-03e14d335816",
   "metadata": {},
   "outputs": [
    {
     "data": {
      "image/png": "[encoded data removed]",
      "text/plain": [
       "<Figure size 640x480 with 1 Axes>"
      ]
     },
     "metadata": {},
     "output_type": "display_data"
    }
   ],
   "source": [
    "# Create a pie chart for the primary causes for the year 2019\n",
    "df2019 = df[(df[\"Année civile\"] == 2019)]\n",
    "PC19 = df2019.groupby('Cause primaire').count()['Ligne']\n",
    "plt.pie(PC19, labels=PC19.index, autopct='%1.0f%%', pctdistance=0.5)\n",
    "plt.show()\n"
   ]
  },
  {
   "cell_type": "code",
   "execution_count": 8,
   "id": "1595d77d-8156-4424-8343-ff90de3a4354",
   "metadata": {},
   "outputs": [
    {
     "data": {
      "image/png": "[encoded data removed]",
      "text/plain": [
       "<Figure size 640x480 with 1 Axes>"
      ]
     },
     "metadata": {},
     "output_type": "display_data"
    }
   ],
   "source": [
    "# Create a pie chart for the primary causes for the year 2021\n",
    "df2021= df[(df[\"Année civile\"] == 2021)]\n",
    "PC21 = df2021.groupby('Cause primaire').count()['Ligne']\n",
    "plt.pie(PC21, labels=PC21.index, autopct='%1.0f%%', pctdistance=0.5)\n",
    "plt.show()"
   ]
  },
  {
   "cell_type": "code",
   "execution_count": 9,
   "id": "27689976-c653-42be-96d1-8de00b61557e",
   "metadata": {},
   "outputs": [
    {
     "data": {
      "application/vnd.jupyter.widget-view+json": {
       "model_id": "873db2286706431c97122da0b49f035b",
       "version_major": 2,
       "version_minor": 0
      },
      "text/plain": [
       "interactive(children=(Dropdown(description='Cause', options=('Cause primaire', 'Cause secondaire'), value='Cau…"
      ]
     },
     "metadata": {},
     "output_type": "display_data"
    }
   ],
   "source": [
    "# Bonus question (optional)\n",
    "# Create bar-plot charts which shows in decreasing order the primary, respectively secondary, causes for service interruptions\n",
    "\n",
    "@interact(cause=widgets.Dropdown(options=['Cause primaire', 'Cause secondaire'],\n",
    "                                description='Cause'))\n",
    "def causes_for_interruptions(cause):\n",
    "    \"\"\"\n",
    "    Number of incidents due to various causes\n",
    "    \"\"\""
   ]
  },
  {
   "cell_type": "markdown",
   "id": "eec11b8a-495c-466e-a9b5-ab6a9e7984e1",
   "metadata": {},
   "source": [
    "### 2. Which metro stations are the most often a source of incidents ?"
   ]
  },
  {
   "cell_type": "markdown",
   "id": "1b491236-4dd1-4b04-a037-ef03b1a007f4",
   "metadata": {},
   "source": [
    "The field `Code de lieu` contains the name of the metro station that was the source of the incident.<br>\n",
    "You may find some \"strange\" metro station names (e.g. `B124`). For the purpose of this exercise we consider these entries as errors and they should ideally be removed during the cleaning phase. (You may wish to remove at least some of them to show the idea).\n",
    "\n",
    "Conduct your analysis per metro line and year (i.e. report for each metro line and year, which metro station was the most often the source of an incident)\n",
    "\n",
    "How does compare the metro station 'Guy-Concordia' to this ?"
   ]
  },
  {
   "cell_type": "markdown",
   "id": "b5e4117b-1b4b-4719-8d6d-a37ce78a012d",
   "metadata": {},
   "source": [
    "Possible method:\n",
    "- Use the [`groupby()`](https://pandas.pydata.org/pandas-docs/stable/reference/api/pandas.DataFrame.groupby.html) method to list for each metro line the number of incidents per metro stations\n",
    "- For each of the lines, extract the station with the highest number of incidents The dataframe method [`idxmax()`](https://pandas.pydata.org/docs/reference/api/pandas.DataFrame.idxmax.html) can be used for this task.\n",
    "\n",
    "Observe how the metro stations are reported. You will see that some contain more than one station (as more than one station where the source of the incident).\n",
    "For example you will find \"Atwater/Guy-Concordia\" which shows that here two stations were involved.\n",
    "\n",
    "For advanced programmers (optional): try to take this into account by creating two incidents : one for `Atwater` and one for `Guy-Concordia`.<br>\n",
    "To automate this, you can search for entries containing the character `/` and then split the string into two strings (left and right from '/')<br>\n",
    "You can however ignore this effect and do the exercise assuming that \"Atwater/Guy-Concordia\" is another \"valid\" metro station without loosing any mark."
   ]
  },
  {
   "cell_type": "code",
   "execution_count": 10,
   "id": "1550bc10-06ce-4d48-a216-33bf4095b7e1",
   "metadata": {},
   "outputs": [],
   "source": [
    "df1 = df[(df.Ligne == 'Ligne orange') | (df.Ligne == 'Ligne verte') | (df.Ligne == 'Ligne bleue') | (df.Ligne == 'Ligne jaune')].copy()"
   ]
  },
  {
   "cell_type": "code",
   "execution_count": 11,
   "id": "4fe46ae3-451c-42da-b2a9-276722a7d3f6",
   "metadata": {},
   "outputs": [
    {
     "name": "stdout",
     "output_type": "stream",
     "text": [
      "The station with Maximum number of incidents on the yellow line is\n"
     ]
    },
    {
     "data": {
      "text/plain": [
       "'Berri-UQAM'"
      ]
     },
     "execution_count": 11,
     "metadata": {},
     "output_type": "execute_result"
    }
   ],
   "source": [
    "# Yellow metro line\n",
    "df_yellow = df[df.Ligne.str.contains(\"5\")]\n",
    "df_yellow = df_yellow.assign(Ligne='Ligne jaune')\n",
    "df1 = pd.concat([df1, df_yellow])\n",
    "Max_Station_yellow = df1[df1[\"Ligne\"]==\"Ligne jaune\"].groupby('Code de lieu').count()['Ligne']\n",
    "Max_Station_yellow = Max_Station_yellow.idxmax()\n",
    "\n",
    "print(\"The station with Maximum number of incidents on the yellow line is\")\n",
    "Max_Station_yellow\n"
   ]
  },
  {
   "cell_type": "code",
   "execution_count": 12,
   "id": "37d8a9ba-4391-47fb-ab88-e2d59e0713c6",
   "metadata": {},
   "outputs": [
    {
     "name": "stdout",
     "output_type": "stream",
     "text": [
      "The station with Maximum number of incidents on the blue line is\n"
     ]
    },
    {
     "data": {
      "text/plain": [
       "'Snowdon'"
      ]
     },
     "execution_count": 12,
     "metadata": {},
     "output_type": "execute_result"
    }
   ],
   "source": [
    "# Blue metro line\n",
    "df_blue = df[df.Ligne.str.contains(\"4\")]\n",
    "df_blue = df_blue.assign(Ligne='Ligne bleue')\n",
    "df1 = pd.concat([df1, df_blue])\n",
    "Max_Station_blue = df1[df1[\"Ligne\"]==\"Ligne bleue\"].groupby('Code de lieu').count()['Ligne']\n",
    "Max_Station_blue = Max_Station_blue.idxmax()\n",
    "\n",
    "print(\"The station with Maximum number of incidents on the blue line is\")\n",
    "Max_Station_blue"
   ]
  },
  {
   "cell_type": "code",
   "execution_count": 13,
   "id": "b96f635f-f136-49cc-9cc6-2ee6cd5d1c20",
   "metadata": {},
   "outputs": [
    {
     "name": "stdout",
     "output_type": "stream",
     "text": [
      "The station with Maximum number of incidents on the orange line is\n"
     ]
    },
    {
     "data": {
      "text/plain": [
       "'Côte-Vertu'"
      ]
     },
     "execution_count": 13,
     "metadata": {},
     "output_type": "execute_result"
    }
   ],
   "source": [
    "# Orange metro line\n",
    "df_orange = df[df.Ligne.str.contains(\"1\")]\n",
    "df_orange = df_orange.assign(Ligne='Ligne orange')\n",
    "df1 = pd.concat([df1, df_orange])\n",
    "Max_Station_orange = df1[df1[\"Ligne\"]==\"Ligne orange\"].groupby('Code de lieu').count()['Ligne']\n",
    "Max_Station_orange = Max_Station_orange.idxmax()\n",
    "\n",
    "print(\"The station with Maximum number of incidents on the orange line is\")\n",
    "Max_Station_orange"
   ]
  },
  {
   "cell_type": "code",
   "execution_count": 14,
   "id": "e42b09e9-f750-495b-91ef-4686d3dc2ed5",
   "metadata": {},
   "outputs": [
    {
     "name": "stdout",
     "output_type": "stream",
     "text": [
      "The station with Maximum number of incidents on the green line is\n"
     ]
    },
    {
     "data": {
      "text/plain": [
       "'Berri-UQAM'"
      ]
     },
     "execution_count": 14,
     "metadata": {},
     "output_type": "execute_result"
    }
   ],
   "source": [
    "# Green metro line\n",
    "df_green = df[df.Ligne.str.contains(\"2\")]\n",
    "df_green = df_green.assign(Ligne='Ligne verte')\n",
    "df1 = pd.concat([df1, df_green])\n",
    "Max_Station_green = df1[df1[\"Ligne\"]==\"Ligne verte\"].groupby('Code de lieu').count()['Ligne']\n",
    "Max_Station_green= Max_Station_green.idxmax()\n",
    "\n",
    "print(\"The station with Maximum number of incidents on the green line is\")\n",
    "Max_Station_green"
   ]
  },
  {
   "cell_type": "markdown",
   "id": "fad655d8-b309-4f27-ab9f-7d4e749fb129",
   "metadata": {},
   "source": [
    "### 3. Events due to the use of emergency break by users"
   ]
  },
  {
   "cell_type": "markdown",
   "id": "c10c20d1-b957-4b05-b8f1-214b346ece2f",
   "metadata": {},
   "source": [
    "The field `KFS` reports if the interruption was due to the usage of an emergency break (`KFS == 1`).\n",
    "\n",
    "Provide two graphs to analyze this situation:\n",
    "- A first graph for the green line: report for a given year, the total number of incidents in each month due to the usage of the emergency break\n",
    "- A second graph: extend the previous graph to report not only the green line, but all four lines (i.e. a graph for a given year which shows, for each month, the total number of incidents due to to emergency break usage for each metro line)"
   ]
  },
  {
   "cell_type": "code",
   "execution_count": 15,
   "id": "124a8336-20cc-45ba-aca4-e70b45b97ab8",
   "metadata": {},
   "outputs": [
    {
     "data": {
      "application/vnd.jupyter.widget-view+json": {
       "model_id": "a019d217784e479fa25de66f0b84bfa4",
       "version_major": 2,
       "version_minor": 0
      },
      "text/plain": [
       "interactive(children=(Dropdown(description='Year', options=(2019, 2020, 2021, 2022), value=2019), Output()), _…"
      ]
     },
     "metadata": {},
     "output_type": "display_data"
    }
   ],
   "source": [
    "# Graph 1\n",
    "# Graph with total number of of incidents due to emergency break usage per month for a given year on the green line\n",
    "# The green line is 'Ligne verte'\n",
    "# Use the following function template as start point\n",
    "@interact(year=widgets.Dropdown(options=df[\"Année civile\"].unique(),\n",
    "                                description='Year'))\n",
    "def number_monthly_KFS_green_line_year(year):\n",
    "    \"\"\"\n",
    "    Number of incidents due to emergency break usage on each month for a given year of the green line\n",
    "    \"\"\"\n",
    "    # Creating a subset of main data frame using the year and emergency break useage as conditions\n",
    "    incidentsKFS = df1[(df1[\"Année civile\"] == year) & (df1[\"KFS\"] == 1)]\n",
    "    #aggregating the number of incidents in terms of each month of the year\n",
    "    incK = incidentsKFS[(incidentsKFS[\"Ligne\"]==\"Ligne verte\")].groupby('Mois calendrier').count()['duration']\n",
    "    \n",
    "    incK.plot(kind='bar')\n",
    "    plt.xlabel('Month')\n",
    "    plt.ylabel(\"Total number of incidents\")\n",
    "    plt.title(\"Number of incidents due to emergency break usage on the green line \" +str(year))\n",
    "    plt.xticks(rotation=0)\n",
    "    plt.show()            "
   ]
  },
  {
   "cell_type": "code",
   "execution_count": null,
   "id": "c53cc2e5-57b5-4df5-b9e0-2a226b16830c",
   "metadata": {},
   "outputs": [],
   "source": [
    "# Graph 2\n",
    "# Graph with total number of of incidents due to emergency break usage per month and metro line for a given year\n",
    "# Each metro line should be represented by its color on the graph\n",
    "# Use the following function template as start point\n",
    "@interact(year=widgets.Dropdown(options=df[\"Année civile\"].unique(),\n",
    "                                description='Year'))\n",
    "def number_monthly_KFS_year(year):\n",
    "    \"\"\"\n",
    "    Number of incidents due to emergency break usage on each month and metro line for a given year\n",
    "    \"\"\"\n",
    "    # Creating a subset of main data frame using the year and emergency break useage as conditions\n",
    "    df2 = df1[(df1[\"Année civile\"] == year) & (df1[\"KFS\"] == 1)].groupby([\"Mois calendrier\",\"Ligne\"]).count()['duration']\n",
    "\n",
    "                                                                                     \n",
    "    plt.ylabel(\"Number of incidents\")\n",
    "    plt.title(\"Number of incidents per month due to emergency break \" +str(year))\n",
    "    plt.legend()\n",
    "    plt.show()"
   ]
  },
  {
   "cell_type": "code",
   "execution_count": null,
   "id": "4970751d-6d57-4467-ac42-e775171fcc75",
   "metadata": {},
   "outputs": [],
   "source": [
    "month= np.sort(df1[\"Mois calendrier\"].unique())\n",
    "    width =np.min(np.diff(month))/12 \n",
    "    jaune = df2.loc[('Ligne jaune', slice(None)), :]['duration']\n",
    "    bleue = df2.loc[('Ligne bleue', slice(None)), :]['duration']\n",
    "    orange = df2.loc[('Ligne orange', slice(None)), :]['duration']\n",
    "    verte = df2.loc[('Ligne verte', slice(None)), :]['duration']\n",
    "    \n",
    "    fig = plt.figure(figsize=(20, 5))\n",
    "    ax = fig.add_subplot(1,2,1)\n",
    "    ax.bar(month - 2*width, jaune, width, color='#FFD700', label='Ligne jaune', align='edge')\n",
    "    ax.bar(month - 1*width, bleue, width, color='tab:blue', label='Ligne bleue', align='edge')\n",
    "    ax.bar(month + 0*width, orange, width, color='tab:orange', label='Ligne orange', align='edge')\n",
    "    ax.bar(month + 1*width, verte, width, color='tab:green', label='Ligne verte', align='edge')"
   ]
  },
  {
   "cell_type": "markdown",
   "id": "687a26bb-459e-42c3-a718-39eac87a026a",
   "metadata": {},
   "source": [
    "### 4. How many incidents are due to vandalism ?"
   ]
  },
  {
   "cell_type": "markdown",
   "id": "0d72c971-d1f9-4ec6-b089-889b27b37683",
   "metadata": {},
   "source": [
    "These events can be found in the field `'Cause secondaire'`.<br>\n",
    "They are labeled as `'Méfait volontaire'`\n",
    "\n",
    "Make your analysis based on \n",
    "- metro line\n",
    "- years\n",
    "- total and average number of incidents\n",
    "\n",
    "First create the two requested graphs below and then add one more graph you feel that would make sense "
   ]
  },
  {
   "cell_type": "code",
   "execution_count": null,
   "id": "f3f73dc4-74a8-4c5d-8ec6-63f8cf4ccbc0",
   "metadata": {
    "tags": []
   },
   "outputs": [],
   "source": [
    "# Graph with total number of of incidents due to vandalism per year and metro line\n",
    "# Each metro line should be represented by its color on the graph\n",
    "# Use the following function template as start point\n",
    "@interact(year=widgets.Dropdown(options=df[\"Année civile\"].unique(),\n",
    "                                description='Year'))\n",
    "def total_number_of_vandalism_incidents_year(year):\n",
    "    \"\"\"\n",
    "    Total number of vandalism incidents for each metro line for a given year\n",
    "    \"\"\"\n",
    "    incVand =df1[(df1[\"Année civile\"] == year) & (df1[\"Cause secondaire\"] == \"Méfait volontaire\")].groupby([\"Ligne\"])[\"Cause secondaire\"]\n",
    "    incVand.size().plot.bar(color=['blue','#FFD700', 'orange', 'green'])\n",
    "    plt.ylabel(\"Total number of incidents\")\n",
    "    plt.title(\"Total number of incidents due to vandalism per metro line \"+str(year))\n",
    "    plt.xticks(rotation=0)\n",
    "    plt.show()"
   ]
  },
  {
   "cell_type": "code",
   "execution_count": 16,
   "id": "4e889d64-243a-4672-9ed0-82a7ab308b29",
   "metadata": {},
   "outputs": [],
   "source": [
    "# Graph with average number of of incidents per year due to vandalism and metro line\n",
    "# Each metro line should be represented by its color on the graph\n",
    "# Use the following function template as start point\n",
    "\n",
    "def average_number_of_vandalism_incidents():\n",
    "    \"\"\"\n",
    "    Average number of incidents per year due to vandalism\n",
    "    \"\"\"\n",
    "    avg_inc = df1[(df1[\"Cause secondaire\"] == \"Méfait volontaire\")].groupby(['Année civile','Ligne']).count()\n",
    "    \n",
    "    avg_inc.size().plot.bar(color=['blue','#FFD700', 'orange', 'green'])\n",
    "    plt.ylabel(\"Total number of incidents\")\n",
    "    plt.title(\"Total number of incidents due to vandalism per metro line \"+str(year))\n",
    "    plt.xticks(rotation=0)\n",
    "    plt.show()  "
   ]
  },
  {
   "cell_type": "code",
   "execution_count": null,
   "id": "9935e3a0-bf8f-4693-982a-7fd93ea56384",
   "metadata": {},
   "outputs": [],
   "source": [
    "# Your own graph of data representation that could be useful to understand vandalism events in Montreal metro\n"
   ]
  },
  {
   "cell_type": "code",
   "execution_count": null,
   "id": "84af6283-f220-4fb7-a55f-dae24ef9ba76",
   "metadata": {},
   "outputs": [],
   "source": []
  }
 ],
 "metadata": {
  "kernelspec": {
   "display_name": "SciKit Learn",
   "language": "python",
   "name": "scikit"
  },
  "language_info": {
   "codemirror_mode": {
    "name": "ipython",
    "version": 3
   },
   "file_extension": ".py",
   "mimetype": "text/x-python",
   "name": "python",
   "nbconvert_exporter": "python",
   "pygments_lexer": "ipython3",
   "version": "3.10.8"
  }
 },
 "nbformat": 4,
 "nbformat_minor": 5
}
